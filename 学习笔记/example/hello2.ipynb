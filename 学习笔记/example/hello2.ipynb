{
 "cells": [
  {
   "cell_type": "code",
   "execution_count": null,
   "metadata": {},
   "outputs": [],
   "source": [
    "print(\"hello\")"
   ]
  },
  {
   "cell_type": "code",
   "execution_count": null,
   "metadata": {},
   "outputs": [],
   "source": [
    "list_a = [1,2,3,4,5,6,7,8,9,10]\n",
    "list_a = [i for i in list_a if i%2==0]\n",
    "print(list_a)\n",
    "list_a.extend([88,888,888])\n",
    "print(list_a)"
   ]
  },
  {
   "cell_type": "code",
   "execution_count": null,
   "metadata": {},
   "outputs": [],
   "source": [
    "person = {\"sex\": \"man\", \"age\": 21}\n",
    "\n",
    "person[\"age\"]=28\n",
    "print(person)\n",
    "\n",
    "for item in person.items():\n",
    "    print(f'{item[0]}:{item[1]}')\n",
    "\n",
    "print(f'=='*50)\n",
    "\n",
    "for key in person.keys():\n",
    "        print(f'{person[key]}')\n",
    "\n"
   ]
  },
  {
   "cell_type": "code",
   "execution_count": null,
   "metadata": {},
   "outputs": [],
   "source": [
    "print(range(10)) # range(0, 10, 1)\n",
    "for i in range(10):\n",
    "    print(i)\n",
    "\n",
    "list_a = ['a', 'b', 'c', 'd', 'f']\n",
    "list_b = list_a[-1:0:-1]\n",
    "print(list_b)"
   ]
  },
  {
   "cell_type": "code",
   "execution_count": null,
   "metadata": {},
   "outputs": [],
   "source": [
    "f = open(\"hello.py\", mode=\"r\", encoding=\"utf-8\")\n",
    "print(f.read())\n",
    "f.close()\n",
    "\n",
    "f2 = open(\"file.txt\", 'w')\n",
    "f2.write(\"hello, world\")\n",
    "f2.close()\n",
    "\n",
    "with open(\"test2.txt\", mode=\"w\", encoding=\"utf-8\") as f:\n",
    "    f.write('23456789')\n",
    "    "
   ]
  },
  {
   "cell_type": "code",
   "execution_count": 22,
   "metadata": {},
   "outputs": [
    {
     "name": "stdout",
     "output_type": "stream",
     "text": [
      "我是老王, 今年18\n",
      "class method\n"
     ]
    },
    {
     "ename": "TypeError",
     "evalue": "Person.test2() missing 1 required positional argument: 'cls'",
     "output_type": "error",
     "traceback": [
      "\u001b[1;31m---------------------------------------------------------------------------\u001b[0m",
      "\u001b[1;31mTypeError\u001b[0m                                 Traceback (most recent call last)",
      "Cell \u001b[1;32mIn[22], line 23\u001b[0m\n\u001b[0;32m     21\u001b[0m p\u001b[38;5;241m.\u001b[39mintor()\n\u001b[0;32m     22\u001b[0m p\u001b[38;5;241m.\u001b[39mtest()\n\u001b[1;32m---> 23\u001b[0m \u001b[43mPerson\u001b[49m\u001b[38;5;241;43m.\u001b[39;49m\u001b[43mtest2\u001b[49m\u001b[43m(\u001b[49m\u001b[43m)\u001b[49m\n",
      "\u001b[1;31mTypeError\u001b[0m: Person.test2() missing 1 required positional argument: 'cls'"
     ]
    }
   ],
   "source": [
    "class Person:\n",
    "    def __init__(self, name, age) -> None:\n",
    "        # pass #占位符\n",
    "        self.age = age\n",
    "        self.name = name\n",
    "\n",
    "    \n",
    "    def intor(self):\n",
    "        print(f\"我是{self.name}, 今年{self.age}\")\n",
    "\n",
    "    @classmethod\n",
    "    def test(cls):\n",
    "        print(\"class method\")\n",
    "\n",
    "    @staticmethod\n",
    "    def test2(cls):\n",
    "        print(\"static method\")\n",
    "\n",
    "\n",
    "p = Person(\"老王\", 18)\n",
    "p.intor()\n",
    "p.test()\n",
    "Person.test2()\n"
   ]
  }
 ],
 "metadata": {
  "kernelspec": {
   "display_name": "Python 3",
   "language": "python",
   "name": "python3"
  },
  "language_info": {
   "codemirror_mode": {
    "name": "ipython",
    "version": 3
   },
   "file_extension": ".py",
   "mimetype": "text/x-python",
   "name": "python",
   "nbconvert_exporter": "python",
   "pygments_lexer": "ipython3",
   "version": "3.10.6"
  }
 },
 "nbformat": 4,
 "nbformat_minor": 2
}
