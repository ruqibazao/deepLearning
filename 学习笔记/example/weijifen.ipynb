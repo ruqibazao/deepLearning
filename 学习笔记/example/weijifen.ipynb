{
 "cells": [
  {
   "cell_type": "code",
   "execution_count": 3,
   "metadata": {},
   "outputs": [
    {
     "name": "stdout",
     "output_type": "stream",
     "text": [
      "15\n",
      "{'a': 1, 'b': 2, 'c': 3}\n"
     ]
    }
   ],
   "source": [
    "# 不定长参数\n",
    "def add(nums):\n",
    "    sum = 0\n",
    "    for data in nums:\n",
    "        sum += data\n",
    "    return sum\n",
    "\n",
    "# print(add([1,2,3,4,5]))\n",
    "\n",
    "# 不定长参数\n",
    "def add2(*nums):\n",
    "    sum = 0\n",
    "    for data in nums:\n",
    "        sum += data\n",
    "    return sum\n",
    "\n",
    "print(add2(1,2,3,4,5))\n",
    "\n",
    "# 不定长关键字\n",
    "def add3(**kwargs):\n",
    "    # kwargs是一个字典\n",
    "    print(kwargs)\n",
    "\n",
    "add3(a=1,b=2,c=3)\n",
    "\n"
   ]
  }
 ],
 "metadata": {
  "kernelspec": {
   "display_name": ".venv",
   "language": "python",
   "name": "python3"
  },
  "language_info": {
   "codemirror_mode": {
    "name": "ipython",
    "version": 3
   },
   "file_extension": ".py",
   "mimetype": "text/x-python",
   "name": "python",
   "nbconvert_exporter": "python",
   "pygments_lexer": "ipython3",
   "version": "3.10.6"
  }
 },
 "nbformat": 4,
 "nbformat_minor": 2
}
