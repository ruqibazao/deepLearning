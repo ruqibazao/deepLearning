{
 "cells": [
  {
   "cell_type": "code",
   "execution_count": 2,
   "metadata": {},
   "outputs": [
    {
     "data": {
      "text/plain": [
       "array([1, 2, 3, 4, 5])"
      ]
     },
     "execution_count": 2,
     "metadata": {},
     "output_type": "execute_result"
    }
   ],
   "source": [
    "# 创建Numpy的数组对象\n",
    "# 方式1  直接通过python中的列表, 元组转换为Numpy中的ndarray\n",
    "import numpy as np\n",
    "data = np.array([1,2,3,4,5])\n",
    "data"
   ]
  },
  {
   "cell_type": "code",
   "execution_count": 6,
   "metadata": {},
   "outputs": [
    {
     "name": "stdout",
     "output_type": "stream",
     "text": [
      "[0 1 2 3 4 5 6 7 8 9]\n",
      "[1 3 5 7 9]\n"
     ]
    }
   ],
   "source": [
    "# 方式二 直接通过一个range函数创建一个序列\n",
    "import numpy as np \n",
    "data2 = np.arange(10) # 和range方法一样\n",
    "print(data2)\n",
    "data3 = np.arange(1,11,2)\n",
    "print(data3)"
   ]
  },
  {
   "cell_type": "code",
   "execution_count": 9,
   "metadata": {},
   "outputs": [
    {
     "name": "stdout",
     "output_type": "stream",
     "text": [
      "[0. 0. 0. 0. 0. 0. 0. 0. 0. 0.]\n",
      "[[0. 0. 0. 0.]\n",
      " [0. 0. 0. 0.]\n",
      " [0. 0. 0. 0.]]\n"
     ]
    }
   ],
   "source": [
    "# 创建全是0的数组\n",
    "import numpy as np \n",
    "data = np.zeros(10) # 模型训练, 有时候会设置所有的权重参数为0 \n",
    "print(data)\n",
    "# 创建二维数组 3行4列  第一个维度 行, 第二个维度 列\n",
    "data2 = np.zeros((3,4))\n",
    "print(data2)"
   ]
  },
  {
   "cell_type": "code",
   "execution_count": 21,
   "metadata": {},
   "outputs": [
    {
     "name": "stdout",
     "output_type": "stream",
     "text": [
      "(2, 3)\n",
      "2\n",
      "int32\n",
      "6\n",
      "int32 float64\n",
      "[[[ 1  2  3]\n",
      "  [ 4  5  6]\n",
      "  [ 7  8  9]\n",
      "  [10 11 12]]\n",
      "\n",
      " [[13 14 15]\n",
      "  [16 17 18]\n",
      "  [19 20 21]\n",
      "  [22 23 24]]]\n",
      "[ 1  2  3  4  5  6  7  8  9 10 11 12 13 14 15 16 17 18 19 20 21 22 23 24]\n"
     ]
    }
   ],
   "source": [
    "# 常见的属性  \n",
    "# shape: 形状(3,4): 3行4列\n",
    "# dtype: 元素的数据类型 int float\n",
    "# ndim: 维度, 一维数组 1 二维数组 (3,4)\n",
    "# size: 元素个数\n",
    "data = np.array([[1,2,3],\n",
    "                [4,5,6]])\n",
    "\n",
    "print(data.shape) # (2,3)\n",
    "print(data.ndim)  # 2\n",
    "print(data.dtype) # int\n",
    "print(data.size)  # 6\n",
    "\n",
    "# 改变数据类型, 复制一份新的数据, 原来的数据不会改变\n",
    "result = data.astype(np.float64)\n",
    "\n",
    "print(data.dtype,result.dtype) \n",
    "\n",
    "# 改变形状  一维数组==> 二维数组   二维数字===> 一维数组\n",
    "a = np.arange(1,25)  # 一维数组 24个元素 2\n",
    "# 三维数组 (2,4,3) 两个4行3列的数组 所有的维度的数量乘积 == 元素个数\n",
    "b = a.reshape(2,4,3)\n",
    "print(b)\n",
    "\n",
    "# 多维==>一维\n",
    "# c = b.reshape(24)\n",
    "c = b.flatten() # 压扁\n",
    "print(c)"
   ]
  },
  {
   "cell_type": "code",
   "execution_count": null,
   "metadata": {},
   "outputs": [],
   "source": [
    "# 彩色图片的颜色值\n",
    "# 32*64  图片的宽 32, 图片的高度 64, 通道数理:3 (r,g,b) 图片的颜色值[0,255]"
   ]
  }
 ],
 "metadata": {
  "kernelspec": {
   "display_name": "ai0910",
   "language": "python",
   "name": "python3"
  },
  "language_info": {
   "codemirror_mode": {
    "name": "ipython",
    "version": 3
   },
   "file_extension": ".py",
   "mimetype": "text/x-python",
   "name": "python",
   "nbconvert_exporter": "python",
   "pygments_lexer": "ipython3",
   "version": "3.10.6"
  }
 },
 "nbformat": 4,
 "nbformat_minor": 2
}
