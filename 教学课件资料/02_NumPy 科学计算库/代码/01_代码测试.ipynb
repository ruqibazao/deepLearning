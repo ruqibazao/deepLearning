{
 "cells": [
  {
   "cell_type": "code",
   "execution_count": 7,
   "metadata": {},
   "outputs": [
    {
     "name": "stdout",
     "output_type": "stream",
     "text": [
      "列表计算时间：1.3439068794250488 秒\n"
     ]
    }
   ],
   "source": [
    "import time\n",
    "# 创建两个大列表\n",
    "list1 = list(range(10000000))\n",
    "list2 = list(range(10000000))\n",
    "\n",
    "\n",
    "# 列表相加（使用列表解析）\n",
    "start_time = time.time()\n",
    "result_list = [a + b for a, b in zip(list1, list2)]\n",
    "print(f\"列表计算时间：{time.time() - start_time} 秒\")"
   ]
  },
  {
   "cell_type": "code",
   "execution_count": 6,
   "metadata": {},
   "outputs": [
    {
     "name": "stdout",
     "output_type": "stream",
     "text": [
      "(1, 'a')\n",
      "(2, 'b')\n",
      "(3, 'c')\n"
     ]
    }
   ],
   "source": [
    "list1 = [1,2,3]\n",
    "list2 = ['a','b','c']\n",
    "data = zip(list1,list2) # [(1,'a'),(2,'b'),(3,'c')]\n",
    "for x in data:\n",
    "    print(x)"
   ]
  },
  {
   "cell_type": "code",
   "execution_count": 9,
   "metadata": {},
   "outputs": [
    {
     "name": "stdout",
     "output_type": "stream",
     "text": [
      "NumPy 计算时间：0.02846050262451172 秒\n"
     ]
    }
   ],
   "source": [
    "import numpy as np \n",
    "# 创建两个大数组\n",
    "array1 = np.arange(10000000)\n",
    "array2 = np.arange(10000000)\n",
    "# 数组相加（矢量化运算）\n",
    "start_time = time.time()\n",
    "result_array = array1 + array2\n",
    "print(f\"NumPy 计算时间：{time.time() - start_time} 秒\")"
   ]
  },
  {
   "cell_type": "code",
   "execution_count": 11,
   "metadata": {},
   "outputs": [
    {
     "name": "stdout",
     "output_type": "stream",
     "text": [
      "[2, 3, 4, 5, 6]\n"
     ]
    }
   ],
   "source": [
    "# Python原生的list\n",
    "a = [1, 2, 3, 4, 5]\n",
    "\n",
    "# b = [2, 3, 4,5, 6]\n",
    "b = [ i+1 for i in a]  # 列表推导式\n",
    "\n",
    "print(b)\n"
   ]
  },
  {
   "cell_type": "code",
   "execution_count": 12,
   "metadata": {},
   "outputs": [
    {
     "name": "stdout",
     "output_type": "stream",
     "text": [
      "[2 3 4 5 6]\n"
     ]
    }
   ],
   "source": [
    "import numpy as np\n",
    "a = np.array([1, 2, 3, 4, 5])\n",
    "b = a + 1\n",
    "print(b)"
   ]
  },
  {
   "cell_type": "code",
   "execution_count": 13,
   "metadata": {},
   "outputs": [
    {
     "name": "stdout",
     "output_type": "stream",
     "text": [
      "均值：0.00013504475186257458, 标准差：1.0009709317618376\n"
     ]
    }
   ],
   "source": [
    "# 生成标准正态分布的随机数\n",
    "random_numbers = np.random.randn(1000000)\n",
    "# 计算均值和标准差\n",
    "mean = np.mean(random_numbers)\n",
    "std_dev = np.std(random_numbers)\n",
    "print(f\"均值：{mean}, 标准差：{std_dev}\")"
   ]
  },
  {
   "cell_type": "code",
   "execution_count": 14,
   "metadata": {},
   "outputs": [
    {
     "name": "stdout",
     "output_type": "stream",
     "text": [
      "<module 'numpy' from 'e:\\\\soft\\\\anaconda3\\\\envs\\\\ai0910\\\\lib\\\\site-packages\\\\numpy\\\\__init__.py'>\n"
     ]
    }
   ],
   "source": [
    "import numpy \n",
    "print(numpy)"
   ]
  },
  {
   "cell_type": "code",
   "execution_count": null,
   "metadata": {},
   "outputs": [],
   "source": []
  }
 ],
 "metadata": {
  "kernelspec": {
   "display_name": "ai0910",
   "language": "python",
   "name": "python3"
  },
  "language_info": {
   "codemirror_mode": {
    "name": "ipython",
    "version": 3
   },
   "file_extension": ".py",
   "mimetype": "text/x-python",
   "name": "python",
   "nbconvert_exporter": "python",
   "pygments_lexer": "ipython3",
   "version": "3.10.6"
  }
 },
 "nbformat": 4,
 "nbformat_minor": 2
}
