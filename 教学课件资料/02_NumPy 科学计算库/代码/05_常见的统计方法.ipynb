{
 "cells": [
  {
   "cell_type": "code",
   "execution_count": 5,
   "metadata": {},
   "outputs": [
    {
     "name": "stdout",
     "output_type": "stream",
     "text": [
      "(2, 6)\n",
      "[[1 2 3 4 5 6]\n",
      " [7 8 9 3 1 2]]\n"
     ]
    }
   ],
   "source": [
    "import numpy as np \n",
    "\n",
    "# 常见的统计方法\n",
    "a = np.array([[1,2,3,4,5,6],\n",
    "             [7,8,9,3,1,2]])\n",
    "print(a.shape)\n",
    "print(a)  #(1,2)"
   ]
  },
  {
   "cell_type": "code",
   "execution_count": 8,
   "metadata": {},
   "outputs": [
    {
     "name": "stdout",
     "output_type": "stream",
     "text": [
      "4.25\n",
      "[4.  5.  6.  3.5 3.  4. ]\n",
      "[3.5 5. ]\n"
     ]
    }
   ],
   "source": [
    "# 求平均值\n",
    "print(a.mean())\n",
    "# 求平均值 按列统计\n",
    "print(a.mean(axis=0))\n",
    "# 求平均值 按行统计\n",
    "print(a.mean(axis=1))"
   ]
  },
  {
   "cell_type": "code",
   "execution_count": 10,
   "metadata": {},
   "outputs": [
    {
     "name": "stdout",
     "output_type": "stream",
     "text": [
      "[1 2 3 4 5 6 7 8 9 3 1 2]\n",
      "8\n"
     ]
    }
   ],
   "source": [
    "# 求最大值对应的索引值\n",
    "print(a.flatten())\n",
    "print(a.argmax())"
   ]
  },
  {
   "cell_type": "code",
   "execution_count": 29,
   "metadata": {},
   "outputs": [
    {
     "name": "stdout",
     "output_type": "stream",
     "text": [
      "[[0.93401812 0.48698372 0.22512901]\n",
      " [0.96198196 0.24419712 0.94897311]]\n",
      "[[9 5 5]\n",
      " [2 4 9]]\n",
      "[[-0.05600595 -0.31987465  0.5578818 ]\n",
      " [ 0.23247953 -0.21689139 -0.51770131]]\n",
      "-0.053351995237457706\n",
      "3.9999665154301436\n",
      "170.00032217019069\n",
      "1.9999916288400168\n"
     ]
    }
   ],
   "source": [
    "# 随机数的基本操作\n",
    "# np.random.seed(0)\n",
    "\n",
    "# 生成随机数\n",
    "print(np.random.rand(2,3))\n",
    "\n",
    "# 创建一个数值范围在[1,10)直接的2行3列的数组\n",
    "print(np.random.randint(low=1,high=10,size=(2,3)))\n",
    "\n",
    "# 生成均匀分布随机数，指定随机数取值范围和数组形状\n",
    "a = np.random.uniform(low=-1,high=1,size=(2,3))\n",
    "print(a)\n",
    "print(a.mean())\n",
    "\n",
    "# 生成人的身高的整体分布 平均生成 170  方差:4  67%  168-172\n",
    "data = np.random.normal(loc=170,scale=2,size=(2000,60000))\n",
    "print(data.var())\n",
    "print(data.mean())\n",
    "print(data.std())"
   ]
  },
  {
   "cell_type": "code",
   "execution_count": 31,
   "metadata": {},
   "outputs": [
    {
     "ename": "ValueError",
     "evalue": "shapes (3,) and (4,) not aligned: 3 (dim 0) != 4 (dim 0)",
     "output_type": "error",
     "traceback": [
      "\u001b[1;31m---------------------------------------------------------------------------\u001b[0m",
      "\u001b[1;31mValueError\u001b[0m                                Traceback (most recent call last)",
      "Cell \u001b[1;32mIn[31], line 4\u001b[0m\n\u001b[0;32m      2\u001b[0m a \u001b[38;5;241m=\u001b[39m np\u001b[38;5;241m.\u001b[39marray([\u001b[38;5;241m1\u001b[39m,\u001b[38;5;241m2\u001b[39m,\u001b[38;5;241m3\u001b[39m])\n\u001b[0;32m      3\u001b[0m b \u001b[38;5;241m=\u001b[39m np\u001b[38;5;241m.\u001b[39marray([\u001b[38;5;241m4\u001b[39m,\u001b[38;5;241m5\u001b[39m,\u001b[38;5;241m6\u001b[39m,\u001b[38;5;241m8\u001b[39m])\n\u001b[1;32m----> 4\u001b[0m \u001b[38;5;28mprint\u001b[39m(\u001b[43mnp\u001b[49m\u001b[38;5;241;43m.\u001b[39;49m\u001b[43mdot\u001b[49m\u001b[43m(\u001b[49m\u001b[43ma\u001b[49m\u001b[43m,\u001b[49m\u001b[43mb\u001b[49m\u001b[43m)\u001b[49m)\n\u001b[0;32m      5\u001b[0m \u001b[38;5;66;03m# 1*4+2*5+3*6\u001b[39;00m\n",
      "\u001b[1;31mValueError\u001b[0m: shapes (3,) and (4,) not aligned: 3 (dim 0) != 4 (dim 0)"
     ]
    }
   ],
   "source": [
    "# 数组的内积 点积 dot procuct\n",
    "a = np.array([1,2,3])\n",
    "b = np.array([4,5,6])\n",
    "print(np.dot(a,b))\n",
    "# 1*4+2*5+3*6"
   ]
  },
  {
   "cell_type": "code",
   "execution_count": 34,
   "metadata": {},
   "outputs": [
    {
     "name": "stdout",
     "output_type": "stream",
     "text": [
      "[[14]\n",
      " [32]]\n"
     ]
    }
   ],
   "source": [
    "# 二维数组的内积\n",
    "a = np.array([[1,2,3],\n",
    "              [4,5,6]]) # shape:(2,3)\n",
    "\n",
    "b = np.array([[1],\n",
    "              [2],\n",
    "              [3]]) # shape: (3,1)\n",
    "\n",
    "print(np.dot(a,b))  # shape (2,1)\n",
    "# 1*1 + 2*2 + 3*3 = 14\n",
    "# 4*1 + 5*2 + 6*3 = 32\n",
    "\n",
    "# print(np.dot(b,a)) # \n"
   ]
  },
  {
   "cell_type": "code",
   "execution_count": 35,
   "metadata": {},
   "outputs": [
    {
     "name": "stdout",
     "output_type": "stream",
     "text": [
      "[[ 4  5  6]\n",
      " [ 8 10 12]]\n"
     ]
    }
   ],
   "source": [
    "# 外积 张量积\n",
    "a = np.array([1,2])  # 2\n",
    "b = np.array([4,5,6]) # 3\n",
    "c = np.outer(a,b)\n",
    "print(c)\n",
    "# 1*4 = 4, 1*5=5, 1*6 =6\n",
    "# 2*4 = 8, 2*5=10,2*6=12"
   ]
  },
  {
   "cell_type": "code",
   "execution_count": 38,
   "metadata": {},
   "outputs": [
    {
     "name": "stdout",
     "output_type": "stream",
     "text": [
      "[[1 2 3]\n",
      " [4 5 6]] 6\n",
      "====================================================================================================\n",
      "[[1 4]\n",
      " [2 5]\n",
      " [3 6]] 6\n"
     ]
    }
   ],
   "source": [
    "# 二维数组\n",
    "a = np.array([[1,2,3],[4,5,6]])  # shape: (2,3)\n",
    "b = a.transpose()  # shape: (3,2)\n",
    "print(a,a[1,2])\n",
    "print('='*100)\n",
    "print(b,b[2,1])\n"
   ]
  },
  {
   "cell_type": "code",
   "execution_count": 44,
   "metadata": {},
   "outputs": [
    {
     "name": "stdout",
     "output_type": "stream",
     "text": [
      "[[[ 0  1  2]\n",
      "  [ 3  4  5]\n",
      "  [ 6  7  8]\n",
      "  [ 9 10 11]]\n",
      "\n",
      " [[12 13 14]\n",
      "  [15 16 17]\n",
      "  [18 19 20]\n",
      "  [21 22 23]]] 13\n",
      "====================================================================================================\n",
      "13\n"
     ]
    }
   ],
   "source": [
    "a = np.arange(24)\n",
    "b = a.reshape(2,4,3) # ndim=3\n",
    "print(b,b[1,0,1])\n",
    "print('='*100)\n",
    "# 2: 第三个维度, 0 第一个维度, 1: 第二个维度\n",
    "c = b.transpose(2,0,1) # 里面的值, 代表的是维度的索引\n",
    "print(c[1,1,0])"
   ]
  },
  {
   "cell_type": "code",
   "execution_count": null,
   "metadata": {},
   "outputs": [],
   "source": []
  }
 ],
 "metadata": {
  "kernelspec": {
   "display_name": "ai0910",
   "language": "python",
   "name": "python3"
  },
  "language_info": {
   "codemirror_mode": {
    "name": "ipython",
    "version": 3
   },
   "file_extension": ".py",
   "mimetype": "text/x-python",
   "name": "python",
   "nbconvert_exporter": "python",
   "pygments_lexer": "ipython3",
   "version": "3.10.6"
  }
 },
 "nbformat": 4,
 "nbformat_minor": 2
}
