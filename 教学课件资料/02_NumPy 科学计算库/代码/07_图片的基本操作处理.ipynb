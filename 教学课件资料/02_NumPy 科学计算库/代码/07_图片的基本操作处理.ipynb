{
 "cells": [
  {
   "cell_type": "code",
   "execution_count": 2,
   "metadata": {},
   "outputs": [],
   "source": [
    "import numpy as np \n",
    "from PIL import Image"
   ]
  },
  {
   "cell_type": "code",
   "execution_count": 9,
   "metadata": {},
   "outputs": [
    {
     "name": "stdout",
     "output_type": "stream",
     "text": [
      "<PIL.JpegImagePlugin.JpegImageFile image mode=RGB size=960x1280 at 0x25AB3A779A0>\n",
      "(1280, 960, 3)\n"
     ]
    }
   ],
   "source": [
    "image = Image.open('a.jpg')\n",
    "print(image)\n",
    "# 转换为numpy对象\n",
    "image_array = np.array(image)\n",
    "print(image_array.shape) # 第一个维度 高度, 第二个维度: 宽度, 第三个维度: 通道数RGB\n",
    "# 把图片上下翻转\n",
    "# image_array_up = image_array[-1::-1,:,:]\n",
    "# Image.fromarray(image_array_up).show()\n",
    "# 把图片左右翻转\n",
    "# image_array_left = image_array[:,-1::-1,:]\n",
    "# Image.fromarray(image_array_left).show()\n",
    "# 把图象分辨率降低一半\n",
    "image_array_half = image_array[0::2,0::2,:]\n",
    "Image.fromarray(image_array_half).show()\n",
    "\n"
   ]
  },
  {
   "cell_type": "code",
   "execution_count": 10,
   "metadata": {},
   "outputs": [
    {
     "data": {
      "text/plain": [
       "array([[[ 88, 152, 188],\n",
       "        [ 80, 144, 180],\n",
       "        [ 81, 145, 181],\n",
       "        ...,\n",
       "        [220, 162, 124],\n",
       "        [220, 162, 124],\n",
       "        [220, 162, 124]],\n",
       "\n",
       "       [[ 81, 145, 181],\n",
       "        [ 72, 136, 172],\n",
       "        [ 75, 139, 175],\n",
       "        ...,\n",
       "        [215, 157, 119],\n",
       "        [213, 155, 117],\n",
       "        [213, 155, 117]],\n",
       "\n",
       "       [[ 81, 145, 181],\n",
       "        [ 72, 136, 172],\n",
       "        [ 72, 136, 172],\n",
       "        ...,\n",
       "        [213, 158, 119],\n",
       "        [212, 157, 118],\n",
       "        [213, 158, 119]],\n",
       "\n",
       "       ...,\n",
       "\n",
       "       [[ 87,  96, 151],\n",
       "        [ 77,  86, 141],\n",
       "        [ 78,  87, 142],\n",
       "        ...,\n",
       "        [100, 102, 153],\n",
       "        [ 99, 101, 152],\n",
       "        [ 98, 100, 151]],\n",
       "\n",
       "       [[ 85,  94, 149],\n",
       "        [ 80,  89, 144],\n",
       "        [ 79,  88, 143],\n",
       "        ...,\n",
       "        [ 98, 100, 151],\n",
       "        [ 97,  99, 150],\n",
       "        [ 94,  97, 148]],\n",
       "\n",
       "       [[ 84,  93, 148],\n",
       "        [ 75,  84, 139],\n",
       "        [ 76,  85, 140],\n",
       "        ...,\n",
       "        [ 98, 100, 151],\n",
       "        [ 96,  99, 150],\n",
       "        [ 92,  95, 146]]], dtype=uint8)"
      ]
     },
     "execution_count": 10,
     "metadata": {},
     "output_type": "execute_result"
    }
   ],
   "source": [
    "image_array_half"
   ]
  },
  {
   "cell_type": "code",
   "execution_count": null,
   "metadata": {},
   "outputs": [],
   "source": []
  }
 ],
 "metadata": {
  "kernelspec": {
   "display_name": "ai0910",
   "language": "python",
   "name": "python3"
  },
  "language_info": {
   "codemirror_mode": {
    "name": "ipython",
    "version": 3
   },
   "file_extension": ".py",
   "mimetype": "text/x-python",
   "name": "python",
   "nbconvert_exporter": "python",
   "pygments_lexer": "ipython3",
   "version": "3.10.6"
  }
 },
 "nbformat": 4,
 "nbformat_minor": 2
}
