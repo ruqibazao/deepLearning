{
 "cells": [
  {
   "cell_type": "code",
   "execution_count": 1,
   "metadata": {},
   "outputs": [
    {
     "name": "stdout",
     "output_type": "stream",
     "text": [
      "[[11 12 13]\n",
      " [14 15 16]]\n",
      "[[9 8 7]\n",
      " [6 5 4]]\n",
      "[[ 2  4  6]\n",
      " [ 8 10 12]]\n",
      "[[1.         0.5        0.33333333]\n",
      " [0.25       0.2        0.16666667]]\n"
     ]
    }
   ],
   "source": [
    "import numpy as np \n",
    "# 创建一个2行3列的二维数组\n",
    "a = np.array([[1,2,3],[4,5,6]])\n",
    "# 加法操作, 原来的数组不会改变, 返回一个新的数组\n",
    "b = a + 10 # a中的每个元素都和10 操作  1+10, 2+10...\n",
    "print(b)\n",
    "b = 10-a  # 使用10 减去a中的每个元素  10-1, 10-2...\n",
    "print(b)\n",
    "b = 2*a # 2乘以a中的每个元素  2*1, 2*2...\n",
    "print(b)\n",
    "b = 1/a # 1除以a中的每个元素 1/1,1/2,1/3...\n",
    "print(b)"
   ]
  },
  {
   "cell_type": "code",
   "execution_count": 6,
   "metadata": {},
   "outputs": [
    {
     "name": "stdout",
     "output_type": "stream",
     "text": [
      "[5 7 9]\n",
      "[[2 4 6]\n",
      " [5 7 9]]\n"
     ]
    }
   ],
   "source": [
    "# 数组和数组之间的运算\n",
    "a = np.array([1,2,3]) # 一维数组 (3,)\n",
    "b = np.array([4,5,6])\n",
    "c = np.array([7,8,9,10])\n",
    "d = np.array([[1,2,3],[4,5,6]]) # 二维数组: (2,3)\n",
    "print(a+b)  # 对应位置的元素相加 [5,7,9]\n",
    "# print(a+c)  # 报错 shapes 形状不匹配\n",
    "print(a+d)  # 为什么可以相加"
   ]
  },
  {
   "cell_type": "code",
   "execution_count": 9,
   "metadata": {},
   "outputs": [
    {
     "name": "stdout",
     "output_type": "stream",
     "text": [
      "(5, 3)\n",
      "(5, 3)\n",
      "(2, 5, 3)\n"
     ]
    }
   ],
   "source": [
    "import numpy as np \n",
    "\n",
    "data = np.array([[3,5,6],[2,1,4],[3,1,9],[6,7,10],[12,14,18]])\n",
    "data2 = np.array([[1,6,8],[2,7,14],[13,15,19],[61,37,45],[54,38,52]])\n",
    "\n",
    "data3 = np.array([[[3,5,6],[2,1,4],[3,1,9],[6,7,10],[12,14,18]],\n",
    "                  [[1,6,8],[2,7,14],[13,15,19],[61,37,45],[54,38,52]]])\n",
    "print(data.shape)\n",
    "print(data2.shape)\n",
    "print(data3.shape)\n",
    "# (5, 3, 2)"
   ]
  },
  {
   "cell_type": "code",
   "execution_count": 10,
   "metadata": {},
   "outputs": [
    {
     "name": "stdout",
     "output_type": "stream",
     "text": [
      "(3,)\n"
     ]
    }
   ],
   "source": [
    "a = np.array([1,2,3])\n",
    "print(a.shape) # (3,)"
   ]
  },
  {
   "cell_type": "code",
   "execution_count": 13,
   "metadata": {},
   "outputs": [
    {
     "name": "stdout",
     "output_type": "stream",
     "text": [
      "(1, 3)\n"
     ]
    }
   ],
   "source": [
    "b = np.array([[1,2,3]])    # b = np.array([[1,2,3],[1,2,3]])        # (1,3) 复制一份=> (2,3)\n",
    "d = np.array([[1,2,3],[4,5,6]])  #(2,3)\n",
    "print(b.shape)"
   ]
  },
  {
   "cell_type": "code",
   "execution_count": 15,
   "metadata": {},
   "outputs": [
    {
     "name": "stdout",
     "output_type": "stream",
     "text": [
      "[[1 2 3]]\n",
      "(1, 3)\n"
     ]
    }
   ],
   "source": [
    "# 改变形状\n",
    "c =a.flatten().reshape(1,3)\n",
    "print(c)\n",
    "print(c.shape)"
   ]
  },
  {
   "cell_type": "code",
   "execution_count": 21,
   "metadata": {},
   "outputs": [
    {
     "name": "stdout",
     "output_type": "stream",
     "text": [
      "[[[ 2  4  6]\n",
      "  [ 5  7  9]]\n",
      "\n",
      " [[11 13 15]\n",
      "  [14 16 18]]\n",
      "\n",
      " [[20 22 24]\n",
      "  [23 25 27]]\n",
      "\n",
      " [[29 31 33]\n",
      "  [32 34 36]]]\n"
     ]
    }
   ],
   "source": [
    "a = np.arange(1,13)\n",
    "b = a.reshape(4,1,3)\n",
    "c = np.arange(1,25)\n",
    "d = c.reshape(4,2,3)\n",
    "print(b+d)"
   ]
  },
  {
   "cell_type": "code",
   "execution_count": 23,
   "metadata": {},
   "outputs": [
    {
     "name": "stdout",
     "output_type": "stream",
     "text": [
      "[[[ 5  7  9]\n",
      "  [ 7  9 11]]\n",
      "\n",
      " [[ 5  7  9]\n",
      "  [ 7  9 11]]]\n"
     ]
    }
   ],
   "source": [
    "a = np.array([1,2,3])  # (3)\n",
    "b = np.array([[[4,5,6],[6,7,8]],[[4,5,6],[6,7,8]]]) # (2,2,3)\n",
    "print(a+b)"
   ]
  },
  {
   "cell_type": "code",
   "execution_count": null,
   "metadata": {},
   "outputs": [],
   "source": []
  }
 ],
 "metadata": {
  "kernelspec": {
   "display_name": "ai0910",
   "language": "python",
   "name": "python3"
  },
  "language_info": {
   "codemirror_mode": {
    "name": "ipython",
    "version": 3
   },
   "file_extension": ".py",
   "mimetype": "text/x-python",
   "name": "python",
   "nbconvert_exporter": "python",
   "pygments_lexer": "ipython3",
   "version": "3.10.6"
  }
 },
 "nbformat": 4,
 "nbformat_minor": 2
}
