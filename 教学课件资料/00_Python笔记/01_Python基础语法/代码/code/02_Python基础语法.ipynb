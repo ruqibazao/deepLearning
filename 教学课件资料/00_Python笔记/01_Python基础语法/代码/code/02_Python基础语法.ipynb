{
 "cells": [
  {
   "cell_type": "code",
   "execution_count": 1,
   "metadata": {},
   "outputs": [
    {
     "name": "stdout",
     "output_type": "stream",
     "text": [
      "['False', 'None', 'True', 'and', 'as', 'assert', 'async', 'await', 'break', 'class', 'continue', 'def', 'del', 'elif', 'else', 'except', 'finally', 'for', 'from', 'global', 'if', 'import', 'in', 'is', 'lambda', 'nonlocal', 'not', 'or', 'pass', 'raise', 'return', 'try', 'while', 'with', 'yield']\n"
     ]
    }
   ],
   "source": [
    "import keyword # 导入一个模块 keyword\n",
    "# 查看python的关键字 \n",
    "print(keyword.kwlist)  # 执行 使用Shift+Enter"
   ]
  },
  {
   "cell_type": "code",
   "execution_count": null,
   "metadata": {},
   "outputs": [],
   "source": [
    "# 命名规则\n",
    "userName = \"jack\"\n",
    "\n",
    "user_name = 'lucy'"
   ]
  },
  {
   "cell_type": "code",
   "execution_count": 2,
   "metadata": {},
   "outputs": [],
   "source": [
    "is_use = False"
   ]
  },
  {
   "cell_type": "code",
   "execution_count": 3,
   "metadata": {},
   "outputs": [],
   "source": [
    "# 字符串  ① 使用一对单引号括起来  ② 使用一对双引号括起来  ③ 如果字符串需要换行, 可以使用三个引号括起来\n",
    "city='杭州'"
   ]
  },
  {
   "cell_type": "code",
   "execution_count": 4,
   "metadata": {},
   "outputs": [
    {
     "name": "stdout",
     "output_type": "stream",
     "text": [
      "杭州\n"
     ]
    }
   ],
   "source": [
    "print(city)"
   ]
  },
  {
   "cell_type": "code",
   "execution_count": 5,
   "metadata": {},
   "outputs": [
    {
     "name": "stdout",
     "output_type": "stream",
     "text": [
      "北京\n"
     ]
    }
   ],
   "source": [
    "city=\"北京\"\n",
    "print(city)"
   ]
  },
  {
   "cell_type": "code",
   "execution_count": 6,
   "metadata": {},
   "outputs": [
    {
     "name": "stdout",
     "output_type": "stream",
     "text": [
      "北京欢迎我,\n",
      "你想想好\n",
      "可以见一面\n",
      "\n"
     ]
    }
   ],
   "source": [
    "info = \"\"\"北京欢迎我,\n",
    "你想想好\n",
    "可以见一面\n",
    "\"\"\"\n",
    "print(info)"
   ]
  },
  {
   "cell_type": "code",
   "execution_count": 7,
   "metadata": {},
   "outputs": [
    {
     "name": "stdout",
     "output_type": "stream",
     "text": [
      "['张三', '李四', '王五', '赵六']\n",
      "张三\n"
     ]
    }
   ],
   "source": [
    "# 定义列表\n",
    "user_list = ['张三','李四','王五','赵六']\n",
    "print(user_list)\n",
    "print(user_list[0]) # 索引值 0 代表第一个"
   ]
  },
  {
   "cell_type": "code",
   "execution_count": 8,
   "metadata": {},
   "outputs": [
    {
     "name": "stdout",
     "output_type": "stream",
     "text": [
      "<class 'int'>\n",
      "<class 'tuple'>\n"
     ]
    }
   ],
   "source": [
    "# 定义一个元组, 元组是不可变的\n",
    "user_info = ('张三',18,'广州')\n",
    "# 如果元组中只有一个元素, 需要定义的时候, 添加一个逗号, \n",
    "t = (18)  # t 是一个数字\n",
    "t2 = (18,) # t2 是一个元祖\n",
    "print(type(t)) # 打印t的数据类型\n",
    "print(type(t2)) # 打印t2的数据类型"
   ]
  },
  {
   "cell_type": "code",
   "execution_count": 9,
   "metadata": {},
   "outputs": [
    {
     "name": "stdout",
     "output_type": "stream",
     "text": [
      "18\n",
      "hello\n"
     ]
    }
   ],
   "source": [
    "# 定义字段, 使用一对花括号, {key1:value1, key2:value2, key3:value3}\n",
    "student={'name':\"小杨哥\",'age':26,\"hobby\":\"直播\"}\n",
    "\n",
    "a = 18 # 数字\n",
    "print(a)\n",
    "a = \"hello\"\n",
    "print(a)"
   ]
  },
  {
   "cell_type": "code",
   "execution_count": 11,
   "metadata": {},
   "outputs": [
    {
     "name": "stdout",
     "output_type": "stream",
     "text": [
      "11\n"
     ]
    }
   ],
   "source": [
    "a = 10 \n",
    "# a 自增 1 \n",
    "a+=1  # a = a+1\n",
    "print(a)"
   ]
  },
  {
   "cell_type": "code",
   "execution_count": 14,
   "metadata": {},
   "outputs": [
    {
     "name": "stdout",
     "output_type": "stream",
     "text": [
      "1.6666666666666667\n",
      "1\n",
      "2\n"
     ]
    }
   ],
   "source": [
    "print(5/3)  # 按照小数方式除法\n",
    "print(5//3) # 整除, 如果除不尽, 直接丢弃小数部分\n",
    "print(5%3)  # 取模, 取余数"
   ]
  },
  {
   "cell_type": "code",
   "execution_count": 15,
   "metadata": {},
   "outputs": [],
   "source": [
    "# 当我们使用数字表示布尔值的时候\n",
    "# 0 : False, 非0  当成取\n",
    "# 0 ==> False  100 --> True"
   ]
  },
  {
   "cell_type": "code",
   "execution_count": 17,
   "metadata": {},
   "outputs": [
    {
     "name": "stdout",
     "output_type": "stream",
     "text": [
      "False\n",
      "0\n",
      "True\n",
      "200\n",
      "0\n"
     ]
    }
   ],
   "source": [
    "print(not 100 )     # False\n",
    "print( 100 and 0 )  # 0\n",
    "print(200 and True) # True\n",
    "print(100 and 200 ) # 200\n",
    "print(0 and False)  #  0"
   ]
  },
  {
   "cell_type": "code",
   "execution_count": 20,
   "metadata": {},
   "outputs": [
    {
     "name": "stdout",
     "output_type": "stream",
     "text": [
      "hellobaby\n",
      "hello6\n"
     ]
    }
   ],
   "source": [
    "# + 字符串连接符号, 但是字符串不能直接和数字进行连接\n",
    "print(\"hello\" + \"baby\")\n",
    "# print('hello' + 6) # 报错, 类型不允许\n",
    "# 手动把6 转换为字符串6 \n",
    "print('hello' +str(6))"
   ]
  },
  {
   "cell_type": "code",
   "execution_count": 22,
   "metadata": {},
   "outputs": [
    {
     "name": "stdout",
     "output_type": "stream",
     "text": [
      "name=jack, age = 18\n"
     ]
    }
   ],
   "source": [
    "name = \"jack\"\n",
    "age = 18 \n",
    "print(f\"name={name}, age = {age}\")"
   ]
  },
  {
   "cell_type": "code",
   "execution_count": 24,
   "metadata": {},
   "outputs": [
    {
     "data": {
      "text/plain": [
       "'four'"
      ]
     },
     "execution_count": 24,
     "metadata": {},
     "output_type": "execute_result"
    }
   ],
   "source": [
    "my_list = [1, 2, 3, \"four\", \"five\"]\n",
    "# 可以通过索引访问列表元素  -1: 最后一个, -2: 倒数第二个\n",
    "my_list[-2]"
   ]
  },
  {
   "cell_type": "code",
   "execution_count": 25,
   "metadata": {},
   "outputs": [
    {
     "name": "stdout",
     "output_type": "stream",
     "text": [
      "[2, 4, 6, 8, 10]\n"
     ]
    }
   ],
   "source": [
    "# 列表推导式 \n",
    "# 需求: 有一个列表\n",
    "list_a = [1,2,3,4,5,6,7,8,9,10]\n",
    "\n",
    "list_a = [ i for i in list_a if i%2==0]\n",
    "print(list_a)"
   ]
  },
  {
   "cell_type": "code",
   "execution_count": 38,
   "metadata": {},
   "outputs": [
    {
     "name": "stdout",
     "output_type": "stream",
     "text": [
      "[500, 4, 5, 6]\n"
     ]
    },
    {
     "data": {
      "text/plain": [
       "0"
      ]
     },
     "execution_count": 38,
     "metadata": {},
     "output_type": "execute_result"
    }
   ],
   "source": [
    "# 列表的基本操作 增, 删, 改,查\n",
    "list_a = []\n",
    "list_a.append(100)\n",
    "list_a.append(200)\n",
    "# # 把列表中的元素添加到该列表\n",
    "# list_a.extend([4,5,6])\n",
    "list_a.extend([4,5,6])\n",
    "\n",
    "# 当你有需求--> 找到对应的方法\n",
    "# 删除元素\n",
    "list_a.remove(100) # 根据值删除元素\n",
    "list_a[0]=500 # 修改\n",
    "print(list_a)\n",
    "# 查询元素\n",
    "list_a.index(500)"
   ]
  },
  {
   "cell_type": "code",
   "execution_count": 27,
   "metadata": {},
   "outputs": [
    {
     "name": "stdout",
     "output_type": "stream",
     "text": [
      "[100]\n"
     ]
    }
   ],
   "source": [
    "print(list_a)"
   ]
  },
  {
   "cell_type": "code",
   "execution_count": null,
   "metadata": {},
   "outputs": [],
   "source": []
  }
 ],
 "metadata": {
  "kernelspec": {
   "display_name": "ai0910",
   "language": "python",
   "name": "python3"
  },
  "language_info": {
   "codemirror_mode": {
    "name": "ipython",
    "version": 3
   },
   "file_extension": ".py",
   "mimetype": "text/x-python",
   "name": "python",
   "nbconvert_exporter": "python",
   "pygments_lexer": "ipython3",
   "version": "3.10.6"
  }
 },
 "nbformat": 4,
 "nbformat_minor": 2
}
